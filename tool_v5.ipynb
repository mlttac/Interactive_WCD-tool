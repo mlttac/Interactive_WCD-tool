{
 "cells": [
  {
   "cell_type": "markdown",
   "metadata": {},
   "source": [
    "# WCD's seven strategic properties\n",
    "## Introduction: A tool for easy to use indicators\n",
    "\n",
    "\n",
    "In 2000, the World Commission on Dams (WCD) called for more equitable, interdisciplinary, and sustainable decision making with respect to large dams. The World Commission on Dams report advances seven Strategic Priorities and twenty six guidelines that are meant to serve as a guidance for dam projects during the planning, design, construction, monitoring, operation and decommissioning phases\n",
    "\n",
    "This document provides a vizualisation tool to help summarize the WCD framework (7 strategic priorities) and to translate the framework into easy to use indicators. This document focuses on the criteria and guidelines relevant for <b>project operation</b>.\n",
    "\n",
    "For a complete reference, check out page 275 and 278 of the [World Commission on Dams final_report](https://www.internationalrivers.org/sites/default/files/attached-files/world_commission_on_dams_final_report.pdf).\n"
   ]
  },
  {
   "cell_type": "markdown",
   "metadata": {},
   "source": [
    "## **Getting started**\n",
    "\n",
    "This document is an interactive environment that lets you write and execute code.\n",
    "To execute the code in the below cell, select it with a click and then either press the play button to the left of the code, or use the keyboard shortcut \"Command/Ctrl+Enter\". \n",
    "\n",
    "After running the cell, go straigth to the next paragraph where you can visualize the 7 strategic properties. "
   ]
  },
  {
   "cell_type": "code",
   "execution_count": 35,
   "metadata": {},
   "outputs": [
    {
     "data": {
      "text/html": [
       "<script>\n",
       "code_show=true; \n",
       "function code_toggle() {\n",
       " if (code_show){\n",
       " $('div.input').hide();\n",
       " } else {\n",
       " $('div.input').show();\n",
       " }\n",
       " code_show = !code_show\n",
       "} \n",
       "$( document ).ready(code_toggle);\n",
       "</script>\n",
       "The raw code for this IPython notebook is by default hidden for easier reading.\n",
       "To toggle on/off the raw code, click <a href=\"javascript:code_toggle()\">here</a>."
      ],
      "text/plain": [
       "<IPython.core.display.HTML object>"
      ]
     },
     "execution_count": 35,
     "metadata": {},
     "output_type": "execute_result"
    }
   ],
   "source": [
    "from IPython.display import HTML\n",
    "HTML('''<script>\n",
    "code_show=true; \n",
    "function code_toggle() {\n",
    " if (code_show){\n",
    " $('div.input').hide();\n",
    " } else {\n",
    " $('div.input').show();\n",
    " }\n",
    " code_show = !code_show\n",
    "} \n",
    "$( document ).ready(code_toggle);\n",
    "</script>\n",
    "The raw code for this IPython notebook is by default hidden for easier reading.\n",
    "To toggle on/off the raw code, click <a href=\"javascript:code_toggle()\">here</a>.''')"
   ]
  },
  {
   "cell_type": "code",
   "execution_count": 36,
   "metadata": {},
   "outputs": [],
   "source": [
    "import matplotlib.pyplot as plt\n",
    "import numpy as np\n",
    "%matplotlib inline"
   ]
  },
  {
   "cell_type": "code",
   "execution_count": 37,
   "metadata": {},
   "outputs": [],
   "source": [
    "from ipywidgets import interact, interactive\n",
    "import ipywidgets as widgets\n",
    "from IPython.display import clear_output, display, HTML"
   ]
  },
  {
   "cell_type": "code",
   "execution_count": 38,
   "metadata": {},
   "outputs": [],
   "source": [
    "style = {'description_width': 'initial'}\n",
    "layout = widgets.Layout(width='auto') #set width and height\n",
    "\n",
    "name = widgets.Text('', description='Name of Dam:', style=style) \n",
    "function = widgets.Dropdown(\n",
    "    options=['Hydro power' , 'Irrigation', 'Water supply', 'Flood control','Multiple'],\n",
    "    description='Function:')\n",
    "\n",
    "location = widgets.Text('', description='Location:') \n",
    "year0 = widgets.IntText(value = 2015, description='First year of Deltares involvement:', style=style) \n",
    "year1 = widgets.IntText(value = 2020, description='Last year of Deltares involvement:', style=style) \n",
    "phase = widgets.Dropdown(\n",
    "    options=['Identification' , 'Construction', 'Operation'],\n",
    "    description='Function:',\n",
    "    disabled=False,\n",
    ")\n",
    "role =  widgets.Text('', description='Role of Deltares:', style=style) "
   ]
  },
  {
   "cell_type": "code",
   "execution_count": 39,
   "metadata": {},
   "outputs": [],
   "source": [
    "import ipywidgets\n",
    "import folium\n",
    "# latitude and longitude of location\n",
    "lat = widgets.FloatText(51.9854, description='Latitude:') \n",
    "lng = widgets.FloatText(4.3800,description='Longitude:')\n",
    "#latlng_dam = widgets.HBox([lat, lng])\n",
    "\n",
    "def plot_locations(lat, lng):\n",
    "   \n",
    "    latlng = [lat, lng]\n",
    "    # create map\n",
    "    m = folium.Map(location=latlng, zoom_start=10, width=300,height=300)\n",
    "    m.add_child(folium.LatLngPopup())   \n",
    "    # marker\n",
    "    folium.Marker(latlng, popup=str(latlng), tooltip='Selected Dam Location').add_to(m)\n",
    "    display(m)\n",
    "    \n",
    "latlong_map = ipywidgets.interactive(plot_locations, lat= lat, lng = lng)"
   ]
  },
  {
   "cell_type": "code",
   "execution_count": 40,
   "metadata": {
    "scrolled": true
   },
   "outputs": [
    {
     "data": {
      "application/vnd.jupyter.widget-view+json": {
       "model_id": "fad3190f63db4d7b96d4271d2f89aef6",
       "version_major": 2,
       "version_minor": 0
      },
      "text/plain": [
       "GridspecLayout(children=(Text(value='', description='Name of Dam:', layout=Layout(grid_area='widget001'), styl…"
      ]
     },
     "metadata": {},
     "output_type": "display_data"
    }
   ],
   "source": [
    "\n",
    "from ipywidgets import GridspecLayout\n",
    "# create a 10x2 grid layout\n",
    "grid = GridspecLayout(10, 2)\n",
    "# fill it in with widgets\n",
    "\n",
    "grid[0, 0] = name\n",
    "grid[1, 0] = function\n",
    "grid[2, 0] = location\n",
    "grid[3, 0] = year0\n",
    "grid[4, 0] = year1\n",
    "grid[5, 0] = phase\n",
    "grid[6, 0] = role\n",
    "grid[:, 1] = latlong_map\n",
    "\n",
    "# set the widget properties\n",
    "grid[:, 1].layout.height = 'auto'\n",
    "grid"
   ]
  },
  {
   "cell_type": "code",
   "execution_count": 41,
   "metadata": {},
   "outputs": [],
   "source": [
    "global dam_name\n",
    "dam_name  = name.value"
   ]
  },
  {
   "cell_type": "code",
   "execution_count": 42,
   "metadata": {
    "scrolled": true
   },
   "outputs": [],
   "source": [
    "def make_radar_chart( public, compr, addres, sustain , recodg, ensuring, sharing):\n",
    "    \n",
    "    labels=['Gaining public acceptance', \n",
    "        'Comprehensive options assessment', \n",
    "        'Addressing existing dams', \n",
    "        'Sustaining rivers and livelihoods', \n",
    "        'Recognising entitlements and sharing benefits',\n",
    "       'Ensuring compliance',\n",
    "        'Sharing Rivers for peace and development']\n",
    "    \n",
    "    plot_markers = [0, 1, 2, 3, 4, 5, 6]\n",
    "    plot_str_markers = [\"0\", \"1\", \"2\", \"3\", \"4\", \"5\", '6']\n",
    "    name = \"WCD's seven strategic properties - \" + dam_name\n",
    "    \n",
    "    from textwrap import wrap\n",
    "    attribute_labels = [ '\\n'.join(wrap(l, 26)) for l in labels] \n",
    "    \n",
    "    stats = [public, compr, addres, sustain , recodg, ensuring, sharing]\n",
    "    labels = np.array(attribute_labels)\n",
    "    angles = np.linspace(0, 2*np.pi, len(labels), endpoint=False)\n",
    "    stats = np.concatenate((stats,[stats[0]]))\n",
    "    angles = np.concatenate((angles,[angles[0]]))\n",
    "    fig= plt.figure()\n",
    "    ax = fig.add_subplot(111, polar=True)\n",
    "    ax.plot(angles, stats, 'o-', linewidth=2)\n",
    "    ax.fill(angles, stats, alpha=0.25)\n",
    "    ax.set_thetagrids(np.degrees(angles), labels, horizontalalignment='center', color='black', style ='italic')\n",
    "    plt.yticks(plot_markers)\n",
    "    ax.set_title(name, color='blue', fontsize = 16)\n",
    "    ax.grid(True)\n",
    "    plt.show()\n",
    "    #fig.savefig(\"static/images/%s.png\" % name)\n",
    "    return fig\n",
    "\n",
    "# make average of criterias and prepare inputs for plot      \n",
    "def average_radar_chart(i0_0 ,\n",
    "                        i0_1,\n",
    "                        i1_0,\n",
    "                        i1_1,\n",
    "                        i1_2,\n",
    "                        i1_3,\n",
    "                        i1_4,\n",
    "                        i1_5,\n",
    "                        i2_0,\n",
    "                        i2_1,\n",
    "                        i2_2,\n",
    "                        i3_0,\n",
    "                        i4_0,\n",
    "                        i5_0,\n",
    "                        i5_1,\n",
    "                        i5_2,\n",
    "                        i5_3,\n",
    "                        i5_4,\n",
    "                        i5_5,\n",
    "                        i5_6,\n",
    "                        i6_0):\n",
    "    \n",
    "    # calculate average results    \n",
    "    i0_tot = [i0_0,i0_1]\n",
    "    i0_average = sum(i0_tot) / len(i0_tot)\n",
    "    \n",
    "    i1_tot = [i1_0,i1_1,i1_2, i1_3, i1_4, i1_5]\n",
    "    i1_average = sum(i1_tot) / len(i1_tot)\n",
    "\n",
    "    i2_tot = [i2_0,i2_1,i2_2]\n",
    "    i2_average = sum(i2_tot) / len(i2_tot)\n",
    "        \n",
    "    i5_tot = [i5_0,i5_1,i5_2, i5_3,i5_4,i5_5,i5_6]\n",
    "    i5_average = sum(i5_tot) / len(i5_tot)\n",
    "    \n",
    "    \n",
    "    # convert from scale -1/+1 to interval 0/5 \n",
    "    public = (i0_average +1 )*5/2\n",
    "    compr = (i1_average  +1 )*5/2\n",
    "    addres = (i2_average  +1 )*5/2\n",
    "    sustain = (i3_0  +1 )*5/2\n",
    "    recodg = (i4_0  +1 )*5/2\n",
    "    ensuring = (i5_average  +1 )*5/2\n",
    "    sharing = (i6_0 +1 )*5/2\n",
    "    fig = make_radar_chart( public, compr, addres, sustain , recodg, ensuring, sharing)\n",
    "    return "
   ]
  },
  {
   "cell_type": "code",
   "execution_count": 43,
   "metadata": {},
   "outputs": [],
   "source": [
    "tab_contents = ['Gaining public acceptance', 'Comprehensive options assessment', 'Sustaining rivers and livelihoods', 'Addressing existing dams',\n",
    "        'Recognising entitlements and sharing benefits','Ensuring compliance', 'Sharing Rivers for peace and development']"
   ]
  },
  {
   "cell_type": "code",
   "execution_count": 44,
   "metadata": {},
   "outputs": [],
   "source": [
    "# define criterias\n",
    "criterias=[ None for y in range( len(tab_contents) ) ] \n",
    "criterias[0]  = ['Stakeholders are identified for consideration of operational issues',\n",
    "                'Stakeholders are engaged in proposed changes that have impact on them or the environment'] \n",
    "\n",
    "criterias[1] = ['Periodic evaluations (every 5-10 yrs) of all aspects of project operation and performance',\n",
    "                'Periodic evaluations undertaken with involvement of the stakeholder and agreements are renegotiated as necessary',\n",
    "                'Periodic reviews,replanning,relicensing exercises through participatory multi-criteria approach',\n",
    "                'Modernisation programmes and alternative operational regimes are considered as part of the periodic reviews',\n",
    "                'The influence of climate change on dam safety is considered in monitoring and evaluation programmes',\n",
    "                'A full feasibility study is undertaken for proposals for any major physical change']\n",
    "\n",
    "criterias[2] = ['Operations take account of environmental flow requirements',\n",
    "                'Ecosystem impacts are monitoring', \n",
    "                'Monitoring of social impacts in place']\n",
    "\n",
    "criterias[3] = ['Detailed benefit-sharing mechanisms are modified as necessary with agreement of affected groups']\n",
    "\n",
    "criterias[4] = ['Project Benefit-Sharing Mechanisms']\n",
    "criterias[5] = ['Adverse social and environmental impacts and reparations issues are referred to the appropriate recourse body',  \n",
    "'Annual reports of monitoring programmes are issued promptly',\n",
    "'The annual reports include social and environmental aspects',\n",
    "'Corrective measures are initiated to address issues raised in the annual reports',\n",
    "'The requirements of remaining performance bonds or trust funds outlined in the Compliance Plan are periodically reviewed',\n",
    "'Financial guarantees are released on satisfactory compliance with agreed milestones',\n",
    "'Dam safety and inspection programmes are implemented']\n",
    "\n",
    "\n",
    "criterias[6] = ['Mechanisms exist to share monitoring information and resolve issues as they arise']"
   ]
  },
  {
   "cell_type": "code",
   "execution_count": 45,
   "metadata": {},
   "outputs": [],
   "source": [
    "style = {'description_width': 'total'}\n",
    "ini_value = 0\n",
    "min_value = -1 \n",
    "max_value = 1 \n",
    "handle_color_value = 'lightblue'\n",
    "\n",
    "# tabs creation \n",
    "all_tabs =[]\n",
    "for num in range(len(criterias)): \n",
    "    tab_box=[]\n",
    "    for num_crit in range(len(criterias[num])):\n",
    "        # criterias in each tab\n",
    "        locals()[\"wid\"+str(num)+'_'+str(num_crit)] =  widgets.IntSlider(value=ini_value, min=min_value, max=max_value, handle_color = handle_color_value ,style = style)    \n",
    "        locals()[\"tab\"+str(num)+'_box'+str(num_crit)] = widgets.HBox([widgets.Label(criterias[num][num_crit], layout = widgets.Layout(width='1000px', height='40px') #set width and height\n",
    "), locals()[\"wid\"+str(num)+'_'+str(num_crit)]])\n",
    "        tab_box.append(locals()[\"tab\"+str(num)+'_box'+str(num_crit)])\n",
    "    locals()[\"tab\"+str(num)] = widgets.VBox(children = tab_box)\n",
    "    all_tabs.append(locals()[\"tab\"+str(num)])\n",
    "tabs = widgets.Tab(children=all_tabs)"
   ]
  },
  {
   "cell_type": "code",
   "execution_count": 46,
   "metadata": {},
   "outputs": [],
   "source": [
    "for count in range(len(tab_contents)):\n",
    "    tabs.set_title(count,tab_contents[count])\n",
    "\n",
    "global w\n",
    "w = interactive(average_radar_chart,\n",
    "                        i0_0 = tabs.children[0].children[0].children[1],\n",
    "                        i0_1 = tabs.children[0].children[1].children[1], \n",
    "                        i1_0 =tabs.children[1].children[0].children[1],\n",
    "                        i1_1 = tabs.children[1].children[1].children[1],\n",
    "                        i1_2 = tabs.children[1].children[2].children[1],\n",
    "                        i1_3 = tabs.children[1].children[3].children[1],\n",
    "                        i1_4 = tabs.children[1].children[4].children[1], \n",
    "                        i1_5 = tabs.children[1].children[5].children[1], \n",
    "                        i2_0 =  tabs.children[2].children[0].children[1],\n",
    "                        i2_1 =  tabs.children[2].children[1].children[1],\n",
    "                        i2_2 =  tabs.children[2].children[2].children[1],\n",
    "                        i3_0 = tabs.children[3].children[0].children[1],\n",
    "                        i4_0 = tabs.children[4].children[0].children[1],\n",
    "                        i5_0 = tabs.children[5].children[0].children[1],\n",
    "                        i5_1 = tabs.children[5].children[1].children[1],\n",
    "                        i5_2 = tabs.children[5].children[2].children[1],\n",
    "                        i5_3 = tabs.children[5].children[3].children[1],\n",
    "                        i5_4 = tabs.children[5].children[4].children[1],\n",
    "                        i5_5 = tabs.children[5].children[5].children[1],\n",
    "                        i5_6 = tabs.children[5].children[6].children[1],\n",
    "                        i6_0 = tabs.children[6].children[0].children[1])                \n",
    "# visualization \n",
    "for count in range(len(tab_contents)):\n",
    "    w.children[count].description = tab_contents[count]\n",
    "w.layout.align='right'\n",
    "\n",
    "# hide tabs and only display the figure\n",
    "for count in range(len(w.children)-1): \n",
    "    w.children[count].layout.display = 'none'"
   ]
  },
  {
   "cell_type": "markdown",
   "metadata": {},
   "source": [
    "## **Interactive tool**\n",
    "\n",
    "With this document you can visualize the impact of the criteria used in the analysis for the 7 strategic properties. \n",
    "\n",
    "But first of all, let's execute the two cells below. "
   ]
  },
  {
   "cell_type": "code",
   "execution_count": 47,
   "metadata": {},
   "outputs": [],
   "source": [
    "import traitlets\n",
    "from ipywidgets import widgets\n",
    "from IPython.display import display\n",
    "from tkinter import Tk, filedialog\n",
    "import base64\n",
    "from PIL import Image\n",
    "from io import BytesIO\n",
    "import os \n",
    "\n",
    "# save figure in given directory\n",
    "def save_fig(directory):    \n",
    "    data = w.children[21].outputs[0].get('data').get('image/png')\n",
    "    im = Image.open(BytesIO(base64.b64decode(data)))\n",
    "    im.save(os.path.join(directory , 'waka.jpg'), 'PNG')\n",
    "    #im.save('image.png', 'PNG')\n",
    "\n",
    "# create button with changing colors and select a directory \n",
    "class SelectFilesButton(widgets.Button):\n",
    "    \"\"\"A file widget that leverages tkinter.filedialog.\"\"\"\n",
    "\n",
    "    def __init__(self):\n",
    "        super(SelectFilesButton, self).__init__()\n",
    "        # Add the selected_files trait\n",
    "        self.add_traits(files=traitlets.traitlets.List())\n",
    "        # Create the button.\n",
    "        self.description = \"Save Figure\"\n",
    "        self.icon = \"square-o\"\n",
    "        self.style.button_color = \"orange\"\n",
    "        # Set on click behavior.\n",
    "        self.on_click(self.select_files)\n",
    "\n",
    "\n",
    "    @staticmethod\n",
    "    def select_files(b):\n",
    "        \"\"\"Generate instance of tkinter.filedialog.\n",
    "\n",
    "        Parameters\n",
    "        ----------\n",
    "        b : obj:\n",
    "            An instance of ipywidgets.widgets.Button \n",
    "        \"\"\"\n",
    "        with out:\n",
    "            try:\n",
    "                # Create Tk root\n",
    "                root = Tk()\n",
    "                # Hide the main window\n",
    "                root.withdraw()\n",
    "                # Raise the root to the top of all windows.\n",
    "                root.call('wm', 'attributes', '.', '-topmost', True)\n",
    "                # List of selected fileswill be set to b.value\n",
    "                #b.files = filedialog.askopenfilename(multiple=True)\n",
    "                b.directory = filedialog.askdirectory() \n",
    "                save_fig(b.directory)\n",
    "                b.description = \"Figure saved!\" \n",
    "                b.icon = \"check-square-o\"\n",
    "                b.style.button_color = \"lightgreen\"\n",
    "            except:\n",
    "                pass\n"
   ]
  },
  {
   "cell_type": "code",
   "execution_count": 48,
   "metadata": {
    "scrolled": true
   },
   "outputs": [
    {
     "data": {
      "application/vnd.jupyter.widget-view+json": {
       "model_id": "82aa2aa8500046a5a8759e8ccba95d50",
       "version_major": 2,
       "version_minor": 0
      },
      "text/plain": [
       "interactive(children=(IntSlider(value=0, description='Gaining public acceptance', layout=Layout(display='none'…"
      ]
     },
     "metadata": {},
     "output_type": "display_data"
    },
    {
     "data": {
      "application/vnd.jupyter.widget-view+json": {
       "model_id": "cb925dfaed374ef998b58d3350a214ee",
       "version_major": 2,
       "version_minor": 0
      },
      "text/plain": [
       "VBox(children=(SelectFilesButton(description='Save Figure', icon='square-o', style=ButtonStyle(button_color='o…"
      ]
     },
     "metadata": {},
     "output_type": "display_data"
    }
   ],
   "source": [
    "display(w)\n",
    "out = widgets.Output()\n",
    "raw = SelectFilesButton()\n",
    "widgets.VBox([raw, out])"
   ]
  },
  {
   "cell_type": "code",
   "execution_count": 49,
   "metadata": {
    "scrolled": true
   },
   "outputs": [
    {
     "data": {
      "text/markdown": [
       "**Answer all the questions, giving the scores: Yes =1, N/A = 0, No =-1**"
      ],
      "text/plain": [
       "<IPython.core.display.Markdown object>"
      ]
     },
     "metadata": {},
     "output_type": "display_data"
    },
    {
     "data": {
      "application/vnd.jupyter.widget-view+json": {
       "model_id": "055f7444264543a6ae400ee37d25b7d1",
       "version_major": 2,
       "version_minor": 0
      },
      "text/plain": [
       "Tab(children=(VBox(children=(HBox(children=(Label(value='Stakeholders are identified for consideration of oper…"
      ]
     },
     "metadata": {},
     "output_type": "display_data"
    }
   ],
   "source": [
    "from IPython.display import Markdown, display\n",
    "def printmd(string):\n",
    "    display(Markdown(string))\n",
    "printmd(\"**Answer all the questions, giving the scores: Yes =1, N/A = 0, No =-1**\")\n",
    "\n",
    "for count in range(len(w.children)): \n",
    "    w.children[count].layout.display = 'True'\n",
    "    w.children[count].description = ''\n",
    "display(tabs)"
   ]
  },
  {
   "cell_type": "markdown",
   "metadata": {},
   "source": [
    "Lets now change the scores given to the 7 strategic properties in the tabs above: use the slider and assign a score from 0 to 5. \n",
    "You will now see that the radar chart is changing according to the given inputs. "
   ]
  },
  {
   "cell_type": "markdown",
   "metadata": {},
   "source": [
    "## **Comments & Remarks**\n",
    "Using this tool, you can visualize the impact of the criteria used to define the 7 strategic properties. \n",
    "\n",
    "However, 3 points of improvements: \n",
    "\n",
    "### **Definition of criteria's**\n",
    "The criteria relevant to project operation are presented in page 275 of the WCD final report and are reported in this tool. However the question arises if assigning scores to these indicators can sufficienlty describe.\n",
    "\n",
    "As a matter of fact, in response to the second Strategic Property, that is the need for a \"comprehensive options assessment\" of different hydrodevelopment scenarios, an interdisciplinary group of scientists has developed the <b>Integrative Dam Assessment Model (IDAM)</b>. To know more about their modeling tool, check out their [website](http://rivers.bee.oregonstate.edu/integrative-dam-assessment-modelling-idam).\n",
    "Given the complexity of the topic, I would suggest to <b>focus only on one strategic property</b> and/or to apply the IDAM model to one of our case studies. "
   ]
  }
 ],
 "metadata": {
  "kernelspec": {
   "display_name": "Python 3",
   "language": "python",
   "name": "python3"
  },
  "language_info": {
   "codemirror_mode": {
    "name": "ipython",
    "version": 3
   },
   "file_extension": ".py",
   "mimetype": "text/x-python",
   "name": "python",
   "nbconvert_exporter": "python",
   "pygments_lexer": "ipython3",
   "version": "3.7.6"
  }
 },
 "nbformat": 4,
 "nbformat_minor": 4
}
